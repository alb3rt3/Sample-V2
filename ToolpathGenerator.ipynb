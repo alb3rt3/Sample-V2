{
 "cells": [
  {
   "cell_type": "markdown",
   "id": "1a2ab8fc-c448-4784-839f-3992abeec0cc",
   "metadata": {
    "jp-MarkdownHeadingCollapsed": true,
    "tags": []
   },
   "source": [
    "Title: \"microPAD Toolpath Generator\"  \n",
    "Author: Albert Hernandez (alb3rthernandez@gmail.com)  \n",
    "date: 3/23/2022\n",
    "Edited by:  \n",
    "Input file: .txt file  \n",
    "Output: html_document, .txt file  \n",
    "Dependencies:  \n",
    "\n",
    "**Check Working Directory (Change if Needed)**"
   ]
  },
  {
   "cell_type": "code",
   "execution_count": null,
   "id": "79835fd6-791a-4700-ac9e-8e16c3535a63",
   "metadata": {},
   "outputs": [],
   "source": [
    "# Currently, all files are shared in a google drive with the following path:\n",
    "\n",
    "# G:/Shared drives/Medical Device Projects/microPAD Toolpath\n",
    "\n",
    "getwd()\n",
    "\n",
    "setwd(\"G:/Shared drives/Medical Device Projects/microPAD Toolpath\")\n",
    "\n",
    "# Currently only Daniel and I can access the directory, but once it is uploaded on Github, you can download and put the files anywhere you want\n",
    "\n",
    "# You can change the directory here using setwd() or change in \"Files -> More -> set as working directory\" in Bottom Right box "
   ]
  },
  {
   "cell_type": "markdown",
   "id": "3ba69657-dad6-4665-b114-d9f4dbf7c6ad",
   "metadata": {},
   "source": [
    "**User Defined Inputs**"
   ]
  },
  {
   "cell_type": "code",
   "execution_count": null,
   "id": "a9723628-81f5-488b-a3df-306fa343a9ec",
   "metadata": {},
   "outputs": [],
   "source": [
    "# This tells us our Matrix Size\n",
    "\n",
    "set_matrix = readline(prompt = \"Enter microPAD Matrix as #x#: \");"
   ]
  },
  {
   "cell_type": "code",
   "execution_count": null,
   "id": "3d8df3a5-9dc7-44b8-8a1c-ca96e28ebdd7",
   "metadata": {},
   "outputs": [],
   "source": [
    "\n",
    "# This sets our movement speed\n",
    "\n",
    "set_feed = readline(\"Set Feedrate as F#.0: \")  # Max of F4000.0"
   ]
  },
  {
   "cell_type": "code",
   "execution_count": null,
   "id": "b0f19e6b-2d80-44f3-ace0-6bb5cfb926f2",
   "metadata": {},
   "outputs": [],
   "source": [
    "# This sets our height from the paper, this is where we will deposit our droplet\n",
    "\n",
    "set_heightdeposit = readline(\"Set Height Deposit as Z#.#: \") # units in mm"
   ]
  },
  {
   "cell_type": "code",
   "execution_count": null,
   "id": "fa8ff367-b869-4ef9-94f0-686f50ba2dde",
   "metadata": {},
   "outputs": [],
   "source": [
    "# This sets our height from the paper, this is where we will move from one well to another\n",
    "\n",
    "set_heightrest = readline(\"Set Height Rest as R#.#: \") # units in mm"
   ]
  },
  {
   "cell_type": "markdown",
   "id": "511660ee-a29d-4817-815c-917ade69a759",
   "metadata": {},
   "source": [
    "**Read in Data**"
   ]
  },
  {
   "cell_type": "code",
   "execution_count": null,
   "id": "a1666413-eedb-4017-9d43-b5044c15a502",
   "metadata": {},
   "outputs": [],
   "source": [
    "# Read in coordinate data from text file (exported from excel sheet)\n",
    "\n",
    "data <- read.table(\"sampleTable.txt\", header=TRUE)"
   ]
  },
  {
   "cell_type": "markdown",
   "id": "a93330d4-2899-4662-8d41-7d37be30a2e8",
   "metadata": {},
   "source": [
    "**Toolpath Generator (Setup)**"
   ]
  },
  {
   "cell_type": "code",
   "execution_count": null,
   "id": "693ad06e-5aa0-41b0-a03b-9223d2cfda4f",
   "metadata": {},
   "outputs": [],
   "source": [
    "title_ <- paste(\"(UCCNC 100: Toolpath Generator for \", set_matrix,\" microPAD)\", sep = \"\"); \n",
    "  \n",
    "a <- \"\\n;\n",
    "(Material Size);\n",
    "(X = NA; Y = NA; Z = NA);\n",
    ";\n",
    "(Program Units: millimeters, mm);\n",
    ";\n",
    "(Toolpaths used in this File);\n",
    "(NA);\n",
    ";\n",
    "(Tools used in this file);\n",
    "(NA);\n",
    ";\n",
    "(Under Configuration -> General Settings: On tool change code (06M) do the following: Set to Stop spindle and wait for cycle START)\n",
    ";\n",
    "#######(GCODE)#######;\n",
    ";\n",
    "(Initializing and Zero Everything);\n",
    ";\n",
    "G00 G17 G90 G40 G49 G54 G80 X0.0 Y0.0; \n",
    ";\n",
    "(NO TOOLS - USE M6 for buffer to do Tool Change);\n",
    "(I will manually adjust height but if capillary is at constant secure distance, we can program offset as if it were a tool using 43G);\n",
    ";\n",
    "(Setting Dwell time or Tool Change);\n",
    ";\n",
    "M06;\n",
    ";\n",
    "(Move up 25mm from the Zero Position);\n",
    ";\n",
    "G00 Z25.0; \n",
    ";\n",
    "(Setting Feedrate: the movement speed)\n",
    ";\\n\"\n",
    "\n",
    "feedrate_ <- paste(\"G94 \",set_feed, sep = \"\"); \n",
    "\n",
    "a1 = \"\\n;\n",
    "(If issues, cancel the cycle (CYCLE STOP) from here, otherwise start the cycle (CYCLE START))\n",
    ";\n",
    "M06;\n",
    ";\n",
    "(Determine how much distance above the well plate or vial you want to be positioned, this will be our default height to return to); \n",
    ";\\n\"\n",
    "\n",
    "heightdeposit_ <- paste(\"G00 \",set_heightdeposit, sep = \"\"); \n",
    "\n",
    "a2 = \"\\n;\n",
    "(If incorrect height, cancel the cycle (CYCLE STOP) from here, otherwise start the cycle (CYCLE START));\n",
    ";\n",
    "M06;\n",
    ";\n",
    "(Now we can confidently program our canned cycle);\n",
    ";\n",
    "(Move to first vial position);\n",
    ";\\n\"\n",
    "\n",
    "first_coord <- paste(as.character(data$Ycoord[1]),as.character(data$Xcoord[1]))\n",
    "\n",
    "a3 = \"\\n;\n",
    "(Reposition capillary if needed); \n",
    ";\n",
    "M06;\n",
    ";\\n\"\n",
    "\n",
    "can_cycle <- paste(\"G81 G99\",set_heightrest,set_heightdeposit,set_feed)\n",
    "\n",
    "a4 <- \"\\n;\n",
    "(R imples R plane: give it previous Z value; new Z value is how deep into vial/well plate it will go);\n",
    ";\\n\"\n",
    "\n",
    "intro_ <- paste(title_,a,feedrate_,a1,heightdeposit_,a2,first_coord,a3,can_cycle,a4)\n",
    "\n",
    "a5 = \"\\nG80;\n",
    "M0;\""
   ]
  },
  {
   "cell_type": "markdown",
   "id": "a3521639-3f81-49de-9a8d-67a85df20b4b",
   "metadata": {},
   "source": [
    "**For every other y use the Reverse X-coordinates**"
   ]
  },
  {
   "cell_type": "code",
   "execution_count": null,
   "id": "529ac323-736a-44a7-a2f7-68b8375c10ac",
   "metadata": {},
   "outputs": [],
   "source": [
    "# don't want length of x_index where it is 0\n",
    "x_red <- which(data$X_index != 0)\n",
    "x_red_ind <- data$Xcoord[x_red]\n",
    "a <- length(data$Y_index)*length(x_red_ind) # vector size\n",
    "\n",
    "# DON'T WANT THE FIRST VALUE SINCE YCOORD ALREADY MOVES TO FIRST X COORD\n",
    "temp <- 1:(length(x_red_ind)-1)\n",
    "v <- 0\n",
    "\n",
    "for (i in 1:(length(data$Y_index))) {\n",
    "  \n",
    "  if (data$Y_index[i]%% 2 == 1) {\n",
    "    \n",
    "    for (j in 1:(length(x_red_ind)-1)) {\n",
    "    \n",
    "      temp[j] = data$Xcoord[j+1]\n",
    "      # DON'T WANT THE FIRST VALUE SINCE YCOORD ALREADY MOVES TO FIRST X COORD\n",
    "    }\n",
    "    \n",
    "  }\n",
    "  \n",
    "  else if (data$Y_index[i]%% 2 == 0) {\n",
    "    \n",
    "    for (j in 1:(length(x_red_ind)-1)) {\n",
    "    \n",
    "      temp[j] = data$Rev_Xcoord[j+1]\n",
    "      # DON'T WANT THE FIRST VALUE SINCE YCOORD ALREADY MOVES TO FIRST X COORD\n",
    "    }\n",
    "    \n",
    "  }\n",
    "  \n",
    "  v= c(v,data$Ycoord[i],temp) # concatenate after each loop\n",
    "  \n",
    "}\n",
    "temp\n",
    "v <- v[-1] # removing the zero (0) that we initialized with\n",
    "v <- v[-1] # removing the first y coordinate because we already positioned it to the first well\n",
    "v <- t(v)"
   ]
  },
  {
   "cell_type": "markdown",
   "id": "c7a4f99f-fbcf-49ee-a74c-528f4e15bd5d",
   "metadata": {},
   "source": [
    "**Create Toolpath**"
   ]
  },
  {
   "cell_type": "code",
   "execution_count": null,
   "id": "2c54b337-58f8-4ca2-82e7-693e55808835",
   "metadata": {},
   "outputs": [],
   "source": [
    "toolpath_ <- c(intro_,v,a5) # combine characters to make tool path\n",
    "\n",
    "write.table(toolpath_, file = \"samplePath.txt\", row.names = FALSE, col.names = FALSE) # export toolpath as text file"
   ]
  }
 ],
 "metadata": {
  "kernelspec": {
   "display_name": "Python 3 (ipykernel)",
   "language": "python",
   "name": "python3"
  },
  "language_info": {
   "codemirror_mode": {
    "name": "ipython",
    "version": 3
   },
   "file_extension": ".py",
   "mimetype": "text/x-python",
   "name": "python",
   "nbconvert_exporter": "python",
   "pygments_lexer": "ipython3",
   "version": "3.9.7"
  }
 },
 "nbformat": 4,
 "nbformat_minor": 5
}
